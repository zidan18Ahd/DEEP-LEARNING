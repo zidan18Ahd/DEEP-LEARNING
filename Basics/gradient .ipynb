{
 "cells": [
  {
   "cell_type": "code",
   "execution_count": 2,
   "id": "a34b7e14",
   "metadata": {},
   "outputs": [
    {
     "name": "stderr",
     "output_type": "stream",
     "text": [
      "C:\\Users\\Zidan Ahmed\\anaconda3\\lib\\site-packages\\torch\\utils\\_pytree.py:185: FutureWarning: optree is installed but the version is too old to support PyTorch Dynamo in C++ pytree. C++ pytree support is disabled. Please consider upgrading optree using `python3 -m pip install --upgrade 'optree>=0.13.0'`.\n",
      "  warnings.warn(\n"
     ]
    }
   ],
   "source": [
    "import torch"
   ]
  },
  {
   "cell_type": "code",
   "execution_count": 4,
   "id": "bbf71ad2",
   "metadata": {},
   "outputs": [],
   "source": [
    "x=torch.tensor(3.0,requires_grad=True)"
   ]
  },
  {
   "cell_type": "code",
   "execution_count": 5,
   "id": "88e6b83f",
   "metadata": {},
   "outputs": [],
   "source": [
    "y=x**2"
   ]
  },
  {
   "cell_type": "code",
   "execution_count": 6,
   "id": "cac8cbe2",
   "metadata": {},
   "outputs": [],
   "source": [
    "y.backward()"
   ]
  },
  {
   "cell_type": "code",
   "execution_count": 8,
   "id": "a379b505",
   "metadata": {},
   "outputs": [
    {
     "data": {
      "text/plain": [
       "tensor(6.)"
      ]
     },
     "execution_count": 8,
     "metadata": {},
     "output_type": "execute_result"
    }
   ],
   "source": [
    "x.grad"
   ]
  },
  {
   "cell_type": "markdown",
   "id": "c68a38d4",
   "metadata": {},
   "source": [
    "# Creating a simple nueral network(manually)"
   ]
  },
  {
   "cell_type": "code",
   "execution_count": 9,
   "id": "acb80730",
   "metadata": {},
   "outputs": [],
   "source": [
    "x=torch.tensor(4.4)\n",
    "y=torch.tensor(0.0)"
   ]
  },
  {
   "cell_type": "code",
   "execution_count": 10,
   "id": "d5be1868",
   "metadata": {},
   "outputs": [],
   "source": [
    "w=torch.tensor(1.0)\n",
    "b=torch.tensor(0.0)"
   ]
  },
  {
   "cell_type": "code",
   "execution_count": 18,
   "id": "592ef2e1",
   "metadata": {},
   "outputs": [],
   "source": [
    "def bce(prediction,target):\n",
    "    episilon=1e-8\n",
    "    prediction=torch.clamp(y_pred,episilon,1-episilon)\n",
    "    return -(target * torch.log(prediction) + (1 - target) * torch.log(1 - prediction))"
   ]
  },
  {
   "cell_type": "code",
   "execution_count": 19,
   "id": "627727cc",
   "metadata": {},
   "outputs": [],
   "source": [
    "z=w*x+b"
   ]
  },
  {
   "cell_type": "code",
   "execution_count": 20,
   "id": "d679f108",
   "metadata": {},
   "outputs": [],
   "source": [
    "y_pred=torch.sigmoid(z)\n",
    "loss=bce(y_pred,y)"
   ]
  },
  {
   "cell_type": "code",
   "execution_count": 21,
   "id": "a5d8ccec",
   "metadata": {},
   "outputs": [
    {
     "data": {
      "text/plain": [
       "tensor(4.4122)"
      ]
     },
     "execution_count": 21,
     "metadata": {},
     "output_type": "execute_result"
    }
   ],
   "source": [
    "loss"
   ]
  },
  {
   "cell_type": "code",
   "execution_count": 22,
   "id": "ced29ae6",
   "metadata": {},
   "outputs": [],
   "source": [
    "d_loss_dy_pred=(y_pred-y)/(y_pred*(1-y_pred))"
   ]
  },
  {
   "cell_type": "code",
   "execution_count": 23,
   "id": "b27b7c2b",
   "metadata": {},
   "outputs": [],
   "source": [
    "dy_pred_dz=y_pred*(1-y_pred)"
   ]
  },
  {
   "cell_type": "code",
   "execution_count": 25,
   "id": "73a3e3f5",
   "metadata": {},
   "outputs": [],
   "source": [
    "dz_dw=x\n",
    "dz_db=1"
   ]
  },
  {
   "cell_type": "code",
   "execution_count": 27,
   "id": "0f6dc835",
   "metadata": {},
   "outputs": [],
   "source": [
    "\n",
    "dL_dw = d_loss_dy_pred * dy_pred_dz * dz_dw\n",
    "dL_db = d_loss_dy_pred * dy_pred_dz * dz_db"
   ]
  },
  {
   "cell_type": "code",
   "execution_count": 28,
   "id": "4b2ed081",
   "metadata": {},
   "outputs": [
    {
     "data": {
      "text/plain": [
       "tensor(4.3466)"
      ]
     },
     "execution_count": 28,
     "metadata": {},
     "output_type": "execute_result"
    }
   ],
   "source": [
    "dL_dw"
   ]
  },
  {
   "cell_type": "code",
   "execution_count": 29,
   "id": "1ff54e19",
   "metadata": {},
   "outputs": [
    {
     "data": {
      "text/plain": [
       "tensor(0.9879)"
      ]
     },
     "execution_count": 29,
     "metadata": {},
     "output_type": "execute_result"
    }
   ],
   "source": [
    "dL_db "
   ]
  },
  {
   "cell_type": "markdown",
   "id": "80881f42",
   "metadata": {},
   "source": [
    "# Creating a nn using functions simple"
   ]
  },
  {
   "cell_type": "code",
   "execution_count": 30,
   "id": "832d14db",
   "metadata": {},
   "outputs": [],
   "source": [
    "x=torch.tensor(4.4)\n",
    "y=torch.tensor(0.0)"
   ]
  },
  {
   "cell_type": "code",
   "execution_count": 31,
   "id": "56133b02",
   "metadata": {},
   "outputs": [],
   "source": [
    "w = torch.tensor(1.0, requires_grad=True)\n",
    "b = torch.tensor(0.0, requires_grad=True)\n"
   ]
  },
  {
   "cell_type": "code",
   "execution_count": 32,
   "id": "691f5080",
   "metadata": {},
   "outputs": [],
   "source": [
    "z = w*x + b\n"
   ]
  },
  {
   "cell_type": "code",
   "execution_count": 33,
   "id": "6db7629d",
   "metadata": {},
   "outputs": [],
   "source": [
    "y_pred = torch.sigmoid(z)\n"
   ]
  },
  {
   "cell_type": "code",
   "execution_count": 35,
   "id": "ec334d77",
   "metadata": {},
   "outputs": [],
   "source": [
    "loss = bce(y_pred, y)\n"
   ]
  },
  {
   "cell_type": "code",
   "execution_count": 36,
   "id": "bf343b36",
   "metadata": {},
   "outputs": [],
   "source": [
    "loss.backward()"
   ]
  },
  {
   "cell_type": "code",
   "execution_count": 37,
   "id": "c15119f5",
   "metadata": {},
   "outputs": [
    {
     "name": "stdout",
     "output_type": "stream",
     "text": [
      "tensor(4.3466)\n",
      "tensor(0.9879)\n"
     ]
    }
   ],
   "source": [
    "print(w.grad)\n",
    "print(b.grad)"
   ]
  }
 ],
 "metadata": {
  "kernelspec": {
   "display_name": "Python 3 (ipykernel)",
   "language": "python",
   "name": "python3"
  },
  "language_info": {
   "codemirror_mode": {
    "name": "ipython",
    "version": 3
   },
   "file_extension": ".py",
   "mimetype": "text/x-python",
   "name": "python",
   "nbconvert_exporter": "python",
   "pygments_lexer": "ipython3",
   "version": "3.9.12"
  }
 },
 "nbformat": 4,
 "nbformat_minor": 5
}
